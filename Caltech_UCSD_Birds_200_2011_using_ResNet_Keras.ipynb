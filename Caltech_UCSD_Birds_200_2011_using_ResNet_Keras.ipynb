{
  "nbformat": 4,
  "nbformat_minor": 0,
  "metadata": {
    "colab": {
      "name": "Caltech-UCSD Birds-200-2011 using ResNet Keras.ipynb",
      "provenance": [],
      "collapsed_sections": [],
      "toc_visible": true
    },
    "kernelspec": {
      "name": "python3",
      "display_name": "Python 3"
    },
    "accelerator": "GPU"
  },
  "cells": [
    {
      "cell_type": "markdown",
      "metadata": {
        "id": "GelznHMGpOq5",
        "colab_type": "text"
      },
      "source": [
        "Caltech-UCSD Birds-200-2011 is an extended version of the CUB-200-dataset, with roughly double the number of images per class and new part location annotations.\n",
        "\n",
        "This Dataset containt 200 species of bird."
      ]
    },
    {
      "cell_type": "code",
      "metadata": {
        "id": "CMOC4-YvvXAE",
        "colab_type": "code",
        "colab": {}
      },
      "source": [
        "fast_run = False\n",
        "image_width = 224\n",
        "image_height = 224\n",
        "image_channels = 3"
      ],
      "execution_count": 0,
      "outputs": []
    },
    {
      "cell_type": "markdown",
      "metadata": {
        "id": "P0q-1nXAp6pS",
        "colab_type": "text"
      },
      "source": [
        "## Downloading the Data and preparing the Data"
      ]
    },
    {
      "cell_type": "code",
      "metadata": {
        "id": "kxTN2Tfso92T",
        "colab_type": "code",
        "outputId": "a0d074dc-9deb-4801-95d3-e22255261ed7",
        "colab": {
          "base_uri": "https://localhost:8080/",
          "height": 204
        }
      },
      "source": [
        "!wget http://www.vision.caltech.edu/visipedia-data/CUB-200-2011/CUB_200_2011.tgz"
      ],
      "execution_count": 2,
      "outputs": [
        {
          "output_type": "stream",
          "text": [
            "--2020-04-18 03:33:34--  http://www.vision.caltech.edu/visipedia-data/CUB-200-2011/CUB_200_2011.tgz\n",
            "Resolving www.vision.caltech.edu (www.vision.caltech.edu)... 34.208.54.77\n",
            "Connecting to www.vision.caltech.edu (www.vision.caltech.edu)|34.208.54.77|:80... connected.\n",
            "HTTP request sent, awaiting response... 200 OK\n",
            "Length: 1150585339 (1.1G) [application/x-tar]\n",
            "Saving to: ‘CUB_200_2011.tgz’\n",
            "\n",
            "CUB_200_2011.tgz    100%[===================>]   1.07G  3.45MB/s    in 7m 11s  \n",
            "\n",
            "2020-04-18 03:40:45 (2.55 MB/s) - ‘CUB_200_2011.tgz’ saved [1150585339/1150585339]\n",
            "\n"
          ],
          "name": "stdout"
        }
      ]
    },
    {
      "cell_type": "code",
      "metadata": {
        "id": "71fClJe9qGiu",
        "colab_type": "code",
        "colab": {}
      },
      "source": [
        "import tarfile\n",
        "filename = \"CUB_200_2011.tgz\"\n",
        "taf = tarfile.open(filename)\n",
        "taf.extractall('/content/')"
      ],
      "execution_count": 0,
      "outputs": []
    },
    {
      "cell_type": "code",
      "metadata": {
        "id": "L1-JLBkmqIo7",
        "colab_type": "code",
        "outputId": "ca3eede4-851b-485c-ad66-919576c6be42",
        "colab": {
          "base_uri": "https://localhost:8080/",
          "height": 51
        }
      },
      "source": [
        "#for more free space we delete the .tgz file\n",
        "!rm --y CUB_200_2011.tgz"
      ],
      "execution_count": 4,
      "outputs": [
        {
          "output_type": "stream",
          "text": [
            "rm: unrecognized option '--y'\n",
            "Try 'rm --help' for more information.\n"
          ],
          "name": "stdout"
        }
      ]
    },
    {
      "cell_type": "markdown",
      "metadata": {
        "id": "2Sa0SB7g2V3N",
        "colab_type": "text"
      },
      "source": [
        "# Train Test Splitting\n",
        "thank you from nomow answer in stack overflow"
      ]
    },
    {
      "cell_type": "code",
      "metadata": {
        "id": "tIDcu2ctlIoG",
        "colab_type": "code",
        "colab": {}
      },
      "source": [
        "import shutil\n",
        "import os\n",
        "import numpy as np\n",
        "import argparse"
      ],
      "execution_count": 0,
      "outputs": []
    },
    {
      "cell_type": "code",
      "metadata": {
        "id": "__5LvqeblI_T",
        "colab_type": "code",
        "colab": {}
      },
      "source": [
        "def get_files_from_folder(path):\n",
        "  files = os.listdir(path)\n",
        "  return np.asarray(files)"
      ],
      "execution_count": 0,
      "outputs": []
    },
    {
      "cell_type": "code",
      "metadata": {
        "id": "7lv5ih46lJXP",
        "colab_type": "code",
        "colab": {}
      },
      "source": [
        "def split_image_dataset(path_to_data, path_to_test_data,train_ratio):\n",
        "  _, dirs, _ = next(os.walk(path_to_data))\n",
        "\n",
        "  # calculates how many train data per class\n",
        "  data_counter_per_class = np.zeros((len(dirs)))\n",
        "  for i in range(len(dirs)):\n",
        "    path = os.path.join(path_to_data, dirs[i])\n",
        "    files = get_files_from_folder(path)\n",
        "    data_counter_per_class[i] = len(files)\n",
        "    test_counter = np.round(data_counter_per_class * (1 - train_ratio))\n",
        "\n",
        "    # transfers files\n",
        "  for i in range(len(dirs)):\n",
        "    path_to_original = os.path.join(path_to_data, dirs[i])\n",
        "    path_to_save = os.path.join(path_to_test_data, dirs[i])\n",
        "\n",
        "        #creates dir\n",
        "    if not os.path.exists(path_to_save):\n",
        "      os.makedirs(path_to_save)\n",
        "    files = get_files_from_folder(path_to_original)\n",
        "        # moves data\n",
        "    for j in range(int(test_counter[i])):\n",
        "        dst = os.path.join(path_to_save, files[j])\n",
        "        src = os.path.join(path_to_original, files[j])\n",
        "        shutil.move(src, dst)"
      ],
      "execution_count": 0,
      "outputs": []
    },
    {
      "cell_type": "code",
      "metadata": {
        "id": "DjwvZmzAlLZU",
        "colab_type": "code",
        "colab": {}
      },
      "source": [
        "os.makedirs('./test')"
      ],
      "execution_count": 0,
      "outputs": []
    },
    {
      "cell_type": "code",
      "metadata": {
        "id": "V6KhqNa5qpls",
        "colab_type": "code",
        "colab": {}
      },
      "source": [
        "split_image_dataset('./CUB_200_2011/images', './test', 0.85)"
      ],
      "execution_count": 0,
      "outputs": []
    },
    {
      "cell_type": "code",
      "metadata": {
        "id": "pfID0iVJq2Ao",
        "colab_type": "code",
        "colab": {}
      },
      "source": [
        "train_path = './CUB_200_2011/images/'\n",
        "test_path = './test'"
      ],
      "execution_count": 0,
      "outputs": []
    },
    {
      "cell_type": "code",
      "metadata": {
        "id": "iFvxEAU2zZxp",
        "colab_type": "code",
        "colab": {}
      },
      "source": [
        "filenames = os.listdir(train_path)\n",
        "categories = []"
      ],
      "execution_count": 0,
      "outputs": []
    },
    {
      "cell_type": "markdown",
      "metadata": {
        "id": "CD7Vi1TqtKtH",
        "colab_type": "text"
      },
      "source": [
        "# Image preprocessing using ImageDatagen"
      ]
    },
    {
      "cell_type": "code",
      "metadata": {
        "id": "fKdEKtJYw_Ub",
        "colab_type": "code",
        "colab": {
          "base_uri": "https://localhost:8080/",
          "height": 34
        },
        "outputId": "25eaa0dd-125a-4f05-b004-740d0fc261cb"
      },
      "source": [
        "import tensorflow as tf\n",
        "from keras.preprocessing.image import ImageDataGenerator, load_img\n",
        "from keras.utils import to_categorical\n",
        "from keras.models import Sequential, Model, load_model\n",
        "from keras.layers import Conv2D, MaxPooling2D, Dropout, Flatten, Dense, Activation, BatchNormalization, Add, Input, ZeroPadding2D, AveragePooling2D\n",
        "from keras.initializers import glorot_uniform\n",
        "import matplotlib.pyplot as plt\n",
        "import random"
      ],
      "execution_count": 12,
      "outputs": [
        {
          "output_type": "stream",
          "text": [
            "Using TensorFlow backend.\n"
          ],
          "name": "stderr"
        }
      ]
    },
    {
      "cell_type": "code",
      "metadata": {
        "id": "B1TR4LIWyrg7",
        "colab_type": "code",
        "colab": {
          "base_uri": "https://localhost:8080/",
          "height": 51
        },
        "outputId": "bb043f2e-ba43-4029-9add-59f55e7d610e"
      },
      "source": [
        "train_datagen = ImageDataGenerator(\n",
        "    rotation_range = 15,\n",
        "    rescale=1./255,\n",
        "    shear_range=0.2,\n",
        "    zoom_range=0.2,\n",
        "    width_shift_range=0.1,\n",
        "    height_shift_range=0.1,\n",
        "    horizontal_flip=True\n",
        ")\n",
        "test_datagen = ImageDataGenerator(rescale=1./255)\n",
        "\n",
        "train_generator = train_datagen.flow_from_directory(\n",
        "    train_path,\n",
        "    target_size=(224,224),\n",
        "    batch_size = 32,\n",
        "    class_mode = 'categorical'\n",
        ")\n",
        "\n",
        "test_generator = test_datagen.flow_from_directory(\n",
        "    test_path,\n",
        "    target_size=(224,224),\n",
        "    batch_size = 32,\n",
        "    class_mode = 'categorical'\n",
        ")"
      ],
      "execution_count": 13,
      "outputs": [
        {
          "output_type": "stream",
          "text": [
            "Found 10011 images belonging to 200 classes.\n",
            "Found 1777 images belonging to 200 classes.\n"
          ],
          "name": "stdout"
        }
      ]
    },
    {
      "cell_type": "markdown",
      "metadata": {
        "id": "sdnpu6IiuhRn",
        "colab_type": "text"
      },
      "source": [
        "# Architechture Neural Network\n",
        "We're gonna Use CNN \\\n",
        "ResNet50 (Residual Neural Network 50 Layer)"
      ]
    },
    {
      "cell_type": "code",
      "metadata": {
        "id": "I4jJ-D6jt9r6",
        "colab_type": "code",
        "colab": {}
      },
      "source": [
        "def identity_block(X,f,filters, stage, block):\n",
        "  #defining name basis\n",
        "  conv_name_base = 'res' +str(stage)+block+'_branch'\n",
        "  bn_name_base = 'bn' +str(stage)+block+'_branch'\n",
        "\n",
        "  #Retrive Filters\n",
        "  F1,F2,F3 = filters\n",
        "\n",
        "  X_shortcut = X\n",
        "\n",
        "  X = Conv2D(filters=F1, kernel_size=(1,1), strides = (1,1), padding='valid', name = conv_name_base+'2a',kernel_initializer=glorot_uniform(seed=0))(X)\n",
        "  X = BatchNormalization(axis = 3, name = bn_name_base+'2a')(X)\n",
        "  X = Activation('relu')(X)\n",
        "\n",
        "  X = Conv2D(filters=F2, kernel_size=(f,f), strides = (1,1), padding='same', name = conv_name_base+'2b',kernel_initializer=glorot_uniform(seed=0))(X)\n",
        "  X = BatchNormalization(axis = 3, name = bn_name_base+'2b')(X)\n",
        "  X = Activation('relu')(X)\n",
        "\n",
        "  X = Conv2D(filters=F3, kernel_size=(1,1), strides = (1,1), padding='valid', name = conv_name_base+'2c',kernel_initializer=glorot_uniform(seed=0))(X)\n",
        "  X = BatchNormalization(axis = 3, name = bn_name_base+'2c')(X)\n",
        "  X = Add()([X, X_shortcut])\n",
        "  X = Activation('relu')(X)\n",
        "\n",
        "  return X"
      ],
      "execution_count": 0,
      "outputs": []
    },
    {
      "cell_type": "code",
      "metadata": {
        "id": "8kBqDfoiN3el",
        "colab_type": "code",
        "colab": {}
      },
      "source": [
        "def convolutional_block(X, f, filters, stage, block, s=2):\n",
        "  conv_name_base = 'res' +str(stage)+block+'_branch'\n",
        "  bn_name_base = 'bn' +str(stage)+block+'_branch'\n",
        "\n",
        "  F1,F2,F3 = filters\n",
        "\n",
        "  X_shortcut = X\n",
        "\n",
        "  X = Conv2D(filters=F1, kernel_size=(1,1), strides = (s,s), name = conv_name_base+'2a',kernel_initializer=glorot_uniform(seed=0))(X)\n",
        "  X = BatchNormalization(axis = 3, name = bn_name_base+'2a')(X)\n",
        "  X = Activation('relu')(X)\n",
        "\n",
        "  X = Conv2D(filters=F2, kernel_size=(f,f), strides = (1,1),padding='same', name = conv_name_base+'2b',kernel_initializer=glorot_uniform(seed=0))(X)\n",
        "  X = BatchNormalization(axis = 3, name = bn_name_base+'2b')(X)\n",
        "  X = Activation('relu')(X)\n",
        "\n",
        "  X = Conv2D(filters=F3, kernel_size=(1,1), strides = (1,1),padding='valid', name = conv_name_base+'2c',kernel_initializer=glorot_uniform(seed=0))(X)\n",
        "  X = BatchNormalization(axis = 3, name = bn_name_base+'2c')(X)\n",
        "\n",
        "  X_shortcut = Conv2D(filters=F3, kernel_size=(1,1), strides = (s,s), name = conv_name_base+'1',kernel_initializer=glorot_uniform(seed=0))(X_shortcut)\n",
        "  X_shortcut = BatchNormalization(axis = 3, name = bn_name_base+'1')(X_shortcut)\n",
        "  X = Add() ([X, X_shortcut])\n",
        "  X = Activation('relu')(X)\n",
        "\n",
        "  return X"
      ],
      "execution_count": 0,
      "outputs": []
    },
    {
      "cell_type": "code",
      "metadata": {
        "id": "29XdIEGxPTzd",
        "colab_type": "code",
        "colab": {}
      },
      "source": [
        "def ResNet50(input_shape = (224,224,3), classes = 200):\n",
        "  X_input = Input(input_shape)\n",
        "\n",
        "  #Zero padding\n",
        "  X = ZeroPadding2D((3,3))(X_input)\n",
        "\n",
        "  #stage 1\n",
        "  X = Conv2D(64,(7,7),strides=(2,2), name = 'conv1', kernel_initializer=glorot_uniform(seed=0))(X)\n",
        "  X = BatchNormalization(axis=3, name = 'bn_conv1')(X)\n",
        "  X = Activation('relu')(X)\n",
        "  X = MaxPooling2D((3,3), strides=(2,2))(X)\n",
        "\n",
        "  #stage 2\n",
        "  X = convolutional_block(X, f=3, filters=[64, 64, 256], stage = 2, block='a', s=1)\n",
        "  X = identity_block(X, 3, [64,64,256], stage=2, block='b')\n",
        "  X = identity_block(X,3,[64,64,256], stage = 2, block = 'c')\n",
        "\n",
        "  #stage 3\n",
        "  X = convolutional_block(X, f=3, filters=[128, 128, 512], stage = 3, block='a', s=2)\n",
        "  X = identity_block(X, 3, filters=[128, 128, 512], stage=3, block='b')\n",
        "  X = identity_block(X,3,filters=[128, 128, 512], stage = 3, block = 'c')\n",
        "  X = identity_block(X,3,filters=[128, 128, 512], stage = 3, block = 'd')\n",
        "\n",
        "  #stage 4\n",
        "  X = convolutional_block(X, f=3, filters=[256, 256, 1024], stage = 4, block='a', s=2)\n",
        "  X = identity_block(X, 3, filters=[256, 256, 1024], stage=4, block='b')\n",
        "  X = identity_block(X,3,filters=[256, 256, 1024], stage = 4, block = 'c')\n",
        "  X = identity_block(X,3,filters=[256, 256, 1024], stage = 4, block = 'd')\n",
        "  X = identity_block(X,3,filters=[256, 256, 1024], stage = 4, block = 'f')\n",
        "\n",
        "  #stage 5\n",
        "  X = convolutional_block(X, f=3, filters=[512, 512, 2048], stage = 5, block='a', s=2)\n",
        "  X = identity_block(X, 3, filters=[512, 512, 2048], stage=5, block='b')\n",
        "  X = identity_block(X,3,filters=[512, 512, 2048], stage = 5, block = 'c')\n",
        "\n",
        "  X = AveragePooling2D((2,2), name = 'avg_pool')(X)\n",
        "\n",
        "  X = Flatten()(X)\n",
        "  X = Dense(classes, activation='softmax', name='fc'+str(classes), kernel_initializer=glorot_uniform(seed=0))(X)\n",
        "\n",
        "  model = Model(inputs = X_input, outputs = X, name='ResNet50')\n",
        "\n",
        "  return model"
      ],
      "execution_count": 0,
      "outputs": []
    },
    {
      "cell_type": "code",
      "metadata": {
        "id": "UaiI1KFYTOaS",
        "colab_type": "code",
        "colab": {}
      },
      "source": [
        "model = ResNet50(input_shape = (224,224,3), classes = 200)"
      ],
      "execution_count": 0,
      "outputs": []
    },
    {
      "cell_type": "code",
      "metadata": {
        "id": "JGBAzb7-vJ1A",
        "colab_type": "code",
        "colab": {
          "base_uri": "https://localhost:8080/",
          "height": 1000
        },
        "outputId": "6a2cbca9-156d-41ac-9e0d-ff95e41c668a"
      },
      "source": [
        "model.compile(loss='categorical_crossentropy', optimizer='adam', metrics=['accuracy'])\n",
        "\n",
        "model.summary()"
      ],
      "execution_count": 18,
      "outputs": [
        {
          "output_type": "stream",
          "text": [
            "Model: \"ResNet50\"\n",
            "__________________________________________________________________________________________________\n",
            "Layer (type)                    Output Shape         Param #     Connected to                     \n",
            "==================================================================================================\n",
            "input_1 (InputLayer)            (None, 224, 224, 3)  0                                            \n",
            "__________________________________________________________________________________________________\n",
            "zero_padding2d_1 (ZeroPadding2D (None, 230, 230, 3)  0           input_1[0][0]                    \n",
            "__________________________________________________________________________________________________\n",
            "conv1 (Conv2D)                  (None, 112, 112, 64) 9472        zero_padding2d_1[0][0]           \n",
            "__________________________________________________________________________________________________\n",
            "bn_conv1 (BatchNormalization)   (None, 112, 112, 64) 256         conv1[0][0]                      \n",
            "__________________________________________________________________________________________________\n",
            "activation_1 (Activation)       (None, 112, 112, 64) 0           bn_conv1[0][0]                   \n",
            "__________________________________________________________________________________________________\n",
            "max_pooling2d_1 (MaxPooling2D)  (None, 55, 55, 64)   0           activation_1[0][0]               \n",
            "__________________________________________________________________________________________________\n",
            "res2a_branch2a (Conv2D)         (None, 55, 55, 64)   4160        max_pooling2d_1[0][0]            \n",
            "__________________________________________________________________________________________________\n",
            "bn2a_branch2a (BatchNormalizati (None, 55, 55, 64)   256         res2a_branch2a[0][0]             \n",
            "__________________________________________________________________________________________________\n",
            "activation_2 (Activation)       (None, 55, 55, 64)   0           bn2a_branch2a[0][0]              \n",
            "__________________________________________________________________________________________________\n",
            "res2a_branch2b (Conv2D)         (None, 55, 55, 64)   36928       activation_2[0][0]               \n",
            "__________________________________________________________________________________________________\n",
            "bn2a_branch2b (BatchNormalizati (None, 55, 55, 64)   256         res2a_branch2b[0][0]             \n",
            "__________________________________________________________________________________________________\n",
            "activation_3 (Activation)       (None, 55, 55, 64)   0           bn2a_branch2b[0][0]              \n",
            "__________________________________________________________________________________________________\n",
            "res2a_branch2c (Conv2D)         (None, 55, 55, 256)  16640       activation_3[0][0]               \n",
            "__________________________________________________________________________________________________\n",
            "res2a_branch1 (Conv2D)          (None, 55, 55, 256)  16640       max_pooling2d_1[0][0]            \n",
            "__________________________________________________________________________________________________\n",
            "bn2a_branch2c (BatchNormalizati (None, 55, 55, 256)  1024        res2a_branch2c[0][0]             \n",
            "__________________________________________________________________________________________________\n",
            "bn2a_branch1 (BatchNormalizatio (None, 55, 55, 256)  1024        res2a_branch1[0][0]              \n",
            "__________________________________________________________________________________________________\n",
            "add_1 (Add)                     (None, 55, 55, 256)  0           bn2a_branch2c[0][0]              \n",
            "                                                                 bn2a_branch1[0][0]               \n",
            "__________________________________________________________________________________________________\n",
            "activation_4 (Activation)       (None, 55, 55, 256)  0           add_1[0][0]                      \n",
            "__________________________________________________________________________________________________\n",
            "res2b_branch2a (Conv2D)         (None, 55, 55, 64)   16448       activation_4[0][0]               \n",
            "__________________________________________________________________________________________________\n",
            "bn2b_branch2a (BatchNormalizati (None, 55, 55, 64)   256         res2b_branch2a[0][0]             \n",
            "__________________________________________________________________________________________________\n",
            "activation_5 (Activation)       (None, 55, 55, 64)   0           bn2b_branch2a[0][0]              \n",
            "__________________________________________________________________________________________________\n",
            "res2b_branch2b (Conv2D)         (None, 55, 55, 64)   36928       activation_5[0][0]               \n",
            "__________________________________________________________________________________________________\n",
            "bn2b_branch2b (BatchNormalizati (None, 55, 55, 64)   256         res2b_branch2b[0][0]             \n",
            "__________________________________________________________________________________________________\n",
            "activation_6 (Activation)       (None, 55, 55, 64)   0           bn2b_branch2b[0][0]              \n",
            "__________________________________________________________________________________________________\n",
            "res2b_branch2c (Conv2D)         (None, 55, 55, 256)  16640       activation_6[0][0]               \n",
            "__________________________________________________________________________________________________\n",
            "bn2b_branch2c (BatchNormalizati (None, 55, 55, 256)  1024        res2b_branch2c[0][0]             \n",
            "__________________________________________________________________________________________________\n",
            "add_2 (Add)                     (None, 55, 55, 256)  0           bn2b_branch2c[0][0]              \n",
            "                                                                 activation_4[0][0]               \n",
            "__________________________________________________________________________________________________\n",
            "activation_7 (Activation)       (None, 55, 55, 256)  0           add_2[0][0]                      \n",
            "__________________________________________________________________________________________________\n",
            "res2c_branch2a (Conv2D)         (None, 55, 55, 64)   16448       activation_7[0][0]               \n",
            "__________________________________________________________________________________________________\n",
            "bn2c_branch2a (BatchNormalizati (None, 55, 55, 64)   256         res2c_branch2a[0][0]             \n",
            "__________________________________________________________________________________________________\n",
            "activation_8 (Activation)       (None, 55, 55, 64)   0           bn2c_branch2a[0][0]              \n",
            "__________________________________________________________________________________________________\n",
            "res2c_branch2b (Conv2D)         (None, 55, 55, 64)   36928       activation_8[0][0]               \n",
            "__________________________________________________________________________________________________\n",
            "bn2c_branch2b (BatchNormalizati (None, 55, 55, 64)   256         res2c_branch2b[0][0]             \n",
            "__________________________________________________________________________________________________\n",
            "activation_9 (Activation)       (None, 55, 55, 64)   0           bn2c_branch2b[0][0]              \n",
            "__________________________________________________________________________________________________\n",
            "res2c_branch2c (Conv2D)         (None, 55, 55, 256)  16640       activation_9[0][0]               \n",
            "__________________________________________________________________________________________________\n",
            "bn2c_branch2c (BatchNormalizati (None, 55, 55, 256)  1024        res2c_branch2c[0][0]             \n",
            "__________________________________________________________________________________________________\n",
            "add_3 (Add)                     (None, 55, 55, 256)  0           bn2c_branch2c[0][0]              \n",
            "                                                                 activation_7[0][0]               \n",
            "__________________________________________________________________________________________________\n",
            "activation_10 (Activation)      (None, 55, 55, 256)  0           add_3[0][0]                      \n",
            "__________________________________________________________________________________________________\n",
            "res3a_branch2a (Conv2D)         (None, 28, 28, 128)  32896       activation_10[0][0]              \n",
            "__________________________________________________________________________________________________\n",
            "bn3a_branch2a (BatchNormalizati (None, 28, 28, 128)  512         res3a_branch2a[0][0]             \n",
            "__________________________________________________________________________________________________\n",
            "activation_11 (Activation)      (None, 28, 28, 128)  0           bn3a_branch2a[0][0]              \n",
            "__________________________________________________________________________________________________\n",
            "res3a_branch2b (Conv2D)         (None, 28, 28, 128)  147584      activation_11[0][0]              \n",
            "__________________________________________________________________________________________________\n",
            "bn3a_branch2b (BatchNormalizati (None, 28, 28, 128)  512         res3a_branch2b[0][0]             \n",
            "__________________________________________________________________________________________________\n",
            "activation_12 (Activation)      (None, 28, 28, 128)  0           bn3a_branch2b[0][0]              \n",
            "__________________________________________________________________________________________________\n",
            "res3a_branch2c (Conv2D)         (None, 28, 28, 512)  66048       activation_12[0][0]              \n",
            "__________________________________________________________________________________________________\n",
            "res3a_branch1 (Conv2D)          (None, 28, 28, 512)  131584      activation_10[0][0]              \n",
            "__________________________________________________________________________________________________\n",
            "bn3a_branch2c (BatchNormalizati (None, 28, 28, 512)  2048        res3a_branch2c[0][0]             \n",
            "__________________________________________________________________________________________________\n",
            "bn3a_branch1 (BatchNormalizatio (None, 28, 28, 512)  2048        res3a_branch1[0][0]              \n",
            "__________________________________________________________________________________________________\n",
            "add_4 (Add)                     (None, 28, 28, 512)  0           bn3a_branch2c[0][0]              \n",
            "                                                                 bn3a_branch1[0][0]               \n",
            "__________________________________________________________________________________________________\n",
            "activation_13 (Activation)      (None, 28, 28, 512)  0           add_4[0][0]                      \n",
            "__________________________________________________________________________________________________\n",
            "res3b_branch2a (Conv2D)         (None, 28, 28, 128)  65664       activation_13[0][0]              \n",
            "__________________________________________________________________________________________________\n",
            "bn3b_branch2a (BatchNormalizati (None, 28, 28, 128)  512         res3b_branch2a[0][0]             \n",
            "__________________________________________________________________________________________________\n",
            "activation_14 (Activation)      (None, 28, 28, 128)  0           bn3b_branch2a[0][0]              \n",
            "__________________________________________________________________________________________________\n",
            "res3b_branch2b (Conv2D)         (None, 28, 28, 128)  147584      activation_14[0][0]              \n",
            "__________________________________________________________________________________________________\n",
            "bn3b_branch2b (BatchNormalizati (None, 28, 28, 128)  512         res3b_branch2b[0][0]             \n",
            "__________________________________________________________________________________________________\n",
            "activation_15 (Activation)      (None, 28, 28, 128)  0           bn3b_branch2b[0][0]              \n",
            "__________________________________________________________________________________________________\n",
            "res3b_branch2c (Conv2D)         (None, 28, 28, 512)  66048       activation_15[0][0]              \n",
            "__________________________________________________________________________________________________\n",
            "bn3b_branch2c (BatchNormalizati (None, 28, 28, 512)  2048        res3b_branch2c[0][0]             \n",
            "__________________________________________________________________________________________________\n",
            "add_5 (Add)                     (None, 28, 28, 512)  0           bn3b_branch2c[0][0]              \n",
            "                                                                 activation_13[0][0]              \n",
            "__________________________________________________________________________________________________\n",
            "activation_16 (Activation)      (None, 28, 28, 512)  0           add_5[0][0]                      \n",
            "__________________________________________________________________________________________________\n",
            "res3c_branch2a (Conv2D)         (None, 28, 28, 128)  65664       activation_16[0][0]              \n",
            "__________________________________________________________________________________________________\n",
            "bn3c_branch2a (BatchNormalizati (None, 28, 28, 128)  512         res3c_branch2a[0][0]             \n",
            "__________________________________________________________________________________________________\n",
            "activation_17 (Activation)      (None, 28, 28, 128)  0           bn3c_branch2a[0][0]              \n",
            "__________________________________________________________________________________________________\n",
            "res3c_branch2b (Conv2D)         (None, 28, 28, 128)  147584      activation_17[0][0]              \n",
            "__________________________________________________________________________________________________\n",
            "bn3c_branch2b (BatchNormalizati (None, 28, 28, 128)  512         res3c_branch2b[0][0]             \n",
            "__________________________________________________________________________________________________\n",
            "activation_18 (Activation)      (None, 28, 28, 128)  0           bn3c_branch2b[0][0]              \n",
            "__________________________________________________________________________________________________\n",
            "res3c_branch2c (Conv2D)         (None, 28, 28, 512)  66048       activation_18[0][0]              \n",
            "__________________________________________________________________________________________________\n",
            "bn3c_branch2c (BatchNormalizati (None, 28, 28, 512)  2048        res3c_branch2c[0][0]             \n",
            "__________________________________________________________________________________________________\n",
            "add_6 (Add)                     (None, 28, 28, 512)  0           bn3c_branch2c[0][0]              \n",
            "                                                                 activation_16[0][0]              \n",
            "__________________________________________________________________________________________________\n",
            "activation_19 (Activation)      (None, 28, 28, 512)  0           add_6[0][0]                      \n",
            "__________________________________________________________________________________________________\n",
            "res3d_branch2a (Conv2D)         (None, 28, 28, 128)  65664       activation_19[0][0]              \n",
            "__________________________________________________________________________________________________\n",
            "bn3d_branch2a (BatchNormalizati (None, 28, 28, 128)  512         res3d_branch2a[0][0]             \n",
            "__________________________________________________________________________________________________\n",
            "activation_20 (Activation)      (None, 28, 28, 128)  0           bn3d_branch2a[0][0]              \n",
            "__________________________________________________________________________________________________\n",
            "res3d_branch2b (Conv2D)         (None, 28, 28, 128)  147584      activation_20[0][0]              \n",
            "__________________________________________________________________________________________________\n",
            "bn3d_branch2b (BatchNormalizati (None, 28, 28, 128)  512         res3d_branch2b[0][0]             \n",
            "__________________________________________________________________________________________________\n",
            "activation_21 (Activation)      (None, 28, 28, 128)  0           bn3d_branch2b[0][0]              \n",
            "__________________________________________________________________________________________________\n",
            "res3d_branch2c (Conv2D)         (None, 28, 28, 512)  66048       activation_21[0][0]              \n",
            "__________________________________________________________________________________________________\n",
            "bn3d_branch2c (BatchNormalizati (None, 28, 28, 512)  2048        res3d_branch2c[0][0]             \n",
            "__________________________________________________________________________________________________\n",
            "add_7 (Add)                     (None, 28, 28, 512)  0           bn3d_branch2c[0][0]              \n",
            "                                                                 activation_19[0][0]              \n",
            "__________________________________________________________________________________________________\n",
            "activation_22 (Activation)      (None, 28, 28, 512)  0           add_7[0][0]                      \n",
            "__________________________________________________________________________________________________\n",
            "res4a_branch2a (Conv2D)         (None, 14, 14, 256)  131328      activation_22[0][0]              \n",
            "__________________________________________________________________________________________________\n",
            "bn4a_branch2a (BatchNormalizati (None, 14, 14, 256)  1024        res4a_branch2a[0][0]             \n",
            "__________________________________________________________________________________________________\n",
            "activation_23 (Activation)      (None, 14, 14, 256)  0           bn4a_branch2a[0][0]              \n",
            "__________________________________________________________________________________________________\n",
            "res4a_branch2b (Conv2D)         (None, 14, 14, 256)  590080      activation_23[0][0]              \n",
            "__________________________________________________________________________________________________\n",
            "bn4a_branch2b (BatchNormalizati (None, 14, 14, 256)  1024        res4a_branch2b[0][0]             \n",
            "__________________________________________________________________________________________________\n",
            "activation_24 (Activation)      (None, 14, 14, 256)  0           bn4a_branch2b[0][0]              \n",
            "__________________________________________________________________________________________________\n",
            "res4a_branch2c (Conv2D)         (None, 14, 14, 1024) 263168      activation_24[0][0]              \n",
            "__________________________________________________________________________________________________\n",
            "res4a_branch1 (Conv2D)          (None, 14, 14, 1024) 525312      activation_22[0][0]              \n",
            "__________________________________________________________________________________________________\n",
            "bn4a_branch2c (BatchNormalizati (None, 14, 14, 1024) 4096        res4a_branch2c[0][0]             \n",
            "__________________________________________________________________________________________________\n",
            "bn4a_branch1 (BatchNormalizatio (None, 14, 14, 1024) 4096        res4a_branch1[0][0]              \n",
            "__________________________________________________________________________________________________\n",
            "add_8 (Add)                     (None, 14, 14, 1024) 0           bn4a_branch2c[0][0]              \n",
            "                                                                 bn4a_branch1[0][0]               \n",
            "__________________________________________________________________________________________________\n",
            "activation_25 (Activation)      (None, 14, 14, 1024) 0           add_8[0][0]                      \n",
            "__________________________________________________________________________________________________\n",
            "res4b_branch2a (Conv2D)         (None, 14, 14, 256)  262400      activation_25[0][0]              \n",
            "__________________________________________________________________________________________________\n",
            "bn4b_branch2a (BatchNormalizati (None, 14, 14, 256)  1024        res4b_branch2a[0][0]             \n",
            "__________________________________________________________________________________________________\n",
            "activation_26 (Activation)      (None, 14, 14, 256)  0           bn4b_branch2a[0][0]              \n",
            "__________________________________________________________________________________________________\n",
            "res4b_branch2b (Conv2D)         (None, 14, 14, 256)  590080      activation_26[0][0]              \n",
            "__________________________________________________________________________________________________\n",
            "bn4b_branch2b (BatchNormalizati (None, 14, 14, 256)  1024        res4b_branch2b[0][0]             \n",
            "__________________________________________________________________________________________________\n",
            "activation_27 (Activation)      (None, 14, 14, 256)  0           bn4b_branch2b[0][0]              \n",
            "__________________________________________________________________________________________________\n",
            "res4b_branch2c (Conv2D)         (None, 14, 14, 1024) 263168      activation_27[0][0]              \n",
            "__________________________________________________________________________________________________\n",
            "bn4b_branch2c (BatchNormalizati (None, 14, 14, 1024) 4096        res4b_branch2c[0][0]             \n",
            "__________________________________________________________________________________________________\n",
            "add_9 (Add)                     (None, 14, 14, 1024) 0           bn4b_branch2c[0][0]              \n",
            "                                                                 activation_25[0][0]              \n",
            "__________________________________________________________________________________________________\n",
            "activation_28 (Activation)      (None, 14, 14, 1024) 0           add_9[0][0]                      \n",
            "__________________________________________________________________________________________________\n",
            "res4c_branch2a (Conv2D)         (None, 14, 14, 256)  262400      activation_28[0][0]              \n",
            "__________________________________________________________________________________________________\n",
            "bn4c_branch2a (BatchNormalizati (None, 14, 14, 256)  1024        res4c_branch2a[0][0]             \n",
            "__________________________________________________________________________________________________\n",
            "activation_29 (Activation)      (None, 14, 14, 256)  0           bn4c_branch2a[0][0]              \n",
            "__________________________________________________________________________________________________\n",
            "res4c_branch2b (Conv2D)         (None, 14, 14, 256)  590080      activation_29[0][0]              \n",
            "__________________________________________________________________________________________________\n",
            "bn4c_branch2b (BatchNormalizati (None, 14, 14, 256)  1024        res4c_branch2b[0][0]             \n",
            "__________________________________________________________________________________________________\n",
            "activation_30 (Activation)      (None, 14, 14, 256)  0           bn4c_branch2b[0][0]              \n",
            "__________________________________________________________________________________________________\n",
            "res4c_branch2c (Conv2D)         (None, 14, 14, 1024) 263168      activation_30[0][0]              \n",
            "__________________________________________________________________________________________________\n",
            "bn4c_branch2c (BatchNormalizati (None, 14, 14, 1024) 4096        res4c_branch2c[0][0]             \n",
            "__________________________________________________________________________________________________\n",
            "add_10 (Add)                    (None, 14, 14, 1024) 0           bn4c_branch2c[0][0]              \n",
            "                                                                 activation_28[0][0]              \n",
            "__________________________________________________________________________________________________\n",
            "activation_31 (Activation)      (None, 14, 14, 1024) 0           add_10[0][0]                     \n",
            "__________________________________________________________________________________________________\n",
            "res4d_branch2a (Conv2D)         (None, 14, 14, 256)  262400      activation_31[0][0]              \n",
            "__________________________________________________________________________________________________\n",
            "bn4d_branch2a (BatchNormalizati (None, 14, 14, 256)  1024        res4d_branch2a[0][0]             \n",
            "__________________________________________________________________________________________________\n",
            "activation_32 (Activation)      (None, 14, 14, 256)  0           bn4d_branch2a[0][0]              \n",
            "__________________________________________________________________________________________________\n",
            "res4d_branch2b (Conv2D)         (None, 14, 14, 256)  590080      activation_32[0][0]              \n",
            "__________________________________________________________________________________________________\n",
            "bn4d_branch2b (BatchNormalizati (None, 14, 14, 256)  1024        res4d_branch2b[0][0]             \n",
            "__________________________________________________________________________________________________\n",
            "activation_33 (Activation)      (None, 14, 14, 256)  0           bn4d_branch2b[0][0]              \n",
            "__________________________________________________________________________________________________\n",
            "res4d_branch2c (Conv2D)         (None, 14, 14, 1024) 263168      activation_33[0][0]              \n",
            "__________________________________________________________________________________________________\n",
            "bn4d_branch2c (BatchNormalizati (None, 14, 14, 1024) 4096        res4d_branch2c[0][0]             \n",
            "__________________________________________________________________________________________________\n",
            "add_11 (Add)                    (None, 14, 14, 1024) 0           bn4d_branch2c[0][0]              \n",
            "                                                                 activation_31[0][0]              \n",
            "__________________________________________________________________________________________________\n",
            "activation_34 (Activation)      (None, 14, 14, 1024) 0           add_11[0][0]                     \n",
            "__________________________________________________________________________________________________\n",
            "res4f_branch2a (Conv2D)         (None, 14, 14, 256)  262400      activation_34[0][0]              \n",
            "__________________________________________________________________________________________________\n",
            "bn4f_branch2a (BatchNormalizati (None, 14, 14, 256)  1024        res4f_branch2a[0][0]             \n",
            "__________________________________________________________________________________________________\n",
            "activation_35 (Activation)      (None, 14, 14, 256)  0           bn4f_branch2a[0][0]              \n",
            "__________________________________________________________________________________________________\n",
            "res4f_branch2b (Conv2D)         (None, 14, 14, 256)  590080      activation_35[0][0]              \n",
            "__________________________________________________________________________________________________\n",
            "bn4f_branch2b (BatchNormalizati (None, 14, 14, 256)  1024        res4f_branch2b[0][0]             \n",
            "__________________________________________________________________________________________________\n",
            "activation_36 (Activation)      (None, 14, 14, 256)  0           bn4f_branch2b[0][0]              \n",
            "__________________________________________________________________________________________________\n",
            "res4f_branch2c (Conv2D)         (None, 14, 14, 1024) 263168      activation_36[0][0]              \n",
            "__________________________________________________________________________________________________\n",
            "bn4f_branch2c (BatchNormalizati (None, 14, 14, 1024) 4096        res4f_branch2c[0][0]             \n",
            "__________________________________________________________________________________________________\n",
            "add_12 (Add)                    (None, 14, 14, 1024) 0           bn4f_branch2c[0][0]              \n",
            "                                                                 activation_34[0][0]              \n",
            "__________________________________________________________________________________________________\n",
            "activation_37 (Activation)      (None, 14, 14, 1024) 0           add_12[0][0]                     \n",
            "__________________________________________________________________________________________________\n",
            "res5a_branch2a (Conv2D)         (None, 7, 7, 512)    524800      activation_37[0][0]              \n",
            "__________________________________________________________________________________________________\n",
            "bn5a_branch2a (BatchNormalizati (None, 7, 7, 512)    2048        res5a_branch2a[0][0]             \n",
            "__________________________________________________________________________________________________\n",
            "activation_38 (Activation)      (None, 7, 7, 512)    0           bn5a_branch2a[0][0]              \n",
            "__________________________________________________________________________________________________\n",
            "res5a_branch2b (Conv2D)         (None, 7, 7, 512)    2359808     activation_38[0][0]              \n",
            "__________________________________________________________________________________________________\n",
            "bn5a_branch2b (BatchNormalizati (None, 7, 7, 512)    2048        res5a_branch2b[0][0]             \n",
            "__________________________________________________________________________________________________\n",
            "activation_39 (Activation)      (None, 7, 7, 512)    0           bn5a_branch2b[0][0]              \n",
            "__________________________________________________________________________________________________\n",
            "res5a_branch2c (Conv2D)         (None, 7, 7, 2048)   1050624     activation_39[0][0]              \n",
            "__________________________________________________________________________________________________\n",
            "res5a_branch1 (Conv2D)          (None, 7, 7, 2048)   2099200     activation_37[0][0]              \n",
            "__________________________________________________________________________________________________\n",
            "bn5a_branch2c (BatchNormalizati (None, 7, 7, 2048)   8192        res5a_branch2c[0][0]             \n",
            "__________________________________________________________________________________________________\n",
            "bn5a_branch1 (BatchNormalizatio (None, 7, 7, 2048)   8192        res5a_branch1[0][0]              \n",
            "__________________________________________________________________________________________________\n",
            "add_13 (Add)                    (None, 7, 7, 2048)   0           bn5a_branch2c[0][0]              \n",
            "                                                                 bn5a_branch1[0][0]               \n",
            "__________________________________________________________________________________________________\n",
            "activation_40 (Activation)      (None, 7, 7, 2048)   0           add_13[0][0]                     \n",
            "__________________________________________________________________________________________________\n",
            "res5b_branch2a (Conv2D)         (None, 7, 7, 512)    1049088     activation_40[0][0]              \n",
            "__________________________________________________________________________________________________\n",
            "bn5b_branch2a (BatchNormalizati (None, 7, 7, 512)    2048        res5b_branch2a[0][0]             \n",
            "__________________________________________________________________________________________________\n",
            "activation_41 (Activation)      (None, 7, 7, 512)    0           bn5b_branch2a[0][0]              \n",
            "__________________________________________________________________________________________________\n",
            "res5b_branch2b (Conv2D)         (None, 7, 7, 512)    2359808     activation_41[0][0]              \n",
            "__________________________________________________________________________________________________\n",
            "bn5b_branch2b (BatchNormalizati (None, 7, 7, 512)    2048        res5b_branch2b[0][0]             \n",
            "__________________________________________________________________________________________________\n",
            "activation_42 (Activation)      (None, 7, 7, 512)    0           bn5b_branch2b[0][0]              \n",
            "__________________________________________________________________________________________________\n",
            "res5b_branch2c (Conv2D)         (None, 7, 7, 2048)   1050624     activation_42[0][0]              \n",
            "__________________________________________________________________________________________________\n",
            "bn5b_branch2c (BatchNormalizati (None, 7, 7, 2048)   8192        res5b_branch2c[0][0]             \n",
            "__________________________________________________________________________________________________\n",
            "add_14 (Add)                    (None, 7, 7, 2048)   0           bn5b_branch2c[0][0]              \n",
            "                                                                 activation_40[0][0]              \n",
            "__________________________________________________________________________________________________\n",
            "activation_43 (Activation)      (None, 7, 7, 2048)   0           add_14[0][0]                     \n",
            "__________________________________________________________________________________________________\n",
            "res5c_branch2a (Conv2D)         (None, 7, 7, 512)    1049088     activation_43[0][0]              \n",
            "__________________________________________________________________________________________________\n",
            "bn5c_branch2a (BatchNormalizati (None, 7, 7, 512)    2048        res5c_branch2a[0][0]             \n",
            "__________________________________________________________________________________________________\n",
            "activation_44 (Activation)      (None, 7, 7, 512)    0           bn5c_branch2a[0][0]              \n",
            "__________________________________________________________________________________________________\n",
            "res5c_branch2b (Conv2D)         (None, 7, 7, 512)    2359808     activation_44[0][0]              \n",
            "__________________________________________________________________________________________________\n",
            "bn5c_branch2b (BatchNormalizati (None, 7, 7, 512)    2048        res5c_branch2b[0][0]             \n",
            "__________________________________________________________________________________________________\n",
            "activation_45 (Activation)      (None, 7, 7, 512)    0           bn5c_branch2b[0][0]              \n",
            "__________________________________________________________________________________________________\n",
            "res5c_branch2c (Conv2D)         (None, 7, 7, 2048)   1050624     activation_45[0][0]              \n",
            "__________________________________________________________________________________________________\n",
            "bn5c_branch2c (BatchNormalizati (None, 7, 7, 2048)   8192        res5c_branch2c[0][0]             \n",
            "__________________________________________________________________________________________________\n",
            "add_15 (Add)                    (None, 7, 7, 2048)   0           bn5c_branch2c[0][0]              \n",
            "                                                                 activation_43[0][0]              \n",
            "__________________________________________________________________________________________________\n",
            "activation_46 (Activation)      (None, 7, 7, 2048)   0           add_15[0][0]                     \n",
            "__________________________________________________________________________________________________\n",
            "avg_pool (AveragePooling2D)     (None, 3, 3, 2048)   0           activation_46[0][0]              \n",
            "__________________________________________________________________________________________________\n",
            "flatten_1 (Flatten)             (None, 18432)        0           avg_pool[0][0]                   \n",
            "__________________________________________________________________________________________________\n",
            "fc200 (Dense)                   (None, 200)          3686600     flatten_1[0][0]                  \n",
            "==================================================================================================\n",
            "Total params: 26,152,520\n",
            "Trainable params: 26,102,472\n",
            "Non-trainable params: 50,048\n",
            "__________________________________________________________________________________________________\n"
          ],
          "name": "stdout"
        }
      ]
    },
    {
      "cell_type": "markdown",
      "metadata": {
        "id": "m0wN7mFI3Mum",
        "colab_type": "text"
      },
      "source": [
        "# ReduceLROPlateau\n",
        "so when the training is happening and the loss is not change for some iteration the learning rate will decrease"
      ]
    },
    {
      "cell_type": "code",
      "metadata": {
        "id": "LolSQT_SvtRj",
        "colab_type": "code",
        "colab": {}
      },
      "source": [
        "from keras.callbacks import EarlyStopping, ReduceLROnPlateau"
      ],
      "execution_count": 0,
      "outputs": []
    },
    {
      "cell_type": "code",
      "metadata": {
        "id": "QAD58pyN3ov9",
        "colab_type": "code",
        "colab": {}
      },
      "source": [
        "earlystopping = EarlyStopping(patience=10)"
      ],
      "execution_count": 0,
      "outputs": []
    },
    {
      "cell_type": "code",
      "metadata": {
        "id": "Qszfud723r1N",
        "colab_type": "code",
        "colab": {}
      },
      "source": [
        "learning_rate_reduction = ReduceLROnPlateau(monitor='val_accuracy', patience=2,verbose=1,factor=0.5,min_lr=0.00001)"
      ],
      "execution_count": 0,
      "outputs": []
    },
    {
      "cell_type": "code",
      "metadata": {
        "id": "QTbJdS6g3v-v",
        "colab_type": "code",
        "colab": {}
      },
      "source": [
        "callbacks=[earlystopping,learning_rate_reduction]"
      ],
      "execution_count": 0,
      "outputs": []
    },
    {
      "cell_type": "markdown",
      "metadata": {
        "id": "93oGX_ZkiRRS",
        "colab_type": "text"
      },
      "source": [
        "# Training the model"
      ]
    },
    {
      "cell_type": "code",
      "metadata": {
        "id": "Bclojifx3ye6",
        "colab_type": "code",
        "colab": {
          "base_uri": "https://localhost:8080/",
          "height": 1000
        },
        "outputId": "9afab548-c567-4e7e-d88e-06c6bd40ba07"
      },
      "source": [
        "history = model.fit_generator(train_generator,epochs=100, validation_data=test_generator, validation_steps=10, callbacks=callbacks)"
      ],
      "execution_count": 23,
      "outputs": [
        {
          "output_type": "stream",
          "text": [
            "Epoch 1/100\n",
            "313/313 [==============================] - 190s 608ms/step - loss: 5.9770 - accuracy: 0.0091 - val_loss: 5.2812 - val_accuracy: 0.0094\n",
            "Epoch 2/100\n",
            "313/313 [==============================] - 169s 541ms/step - loss: 4.9305 - accuracy: 0.0203 - val_loss: 5.0103 - val_accuracy: 0.0312\n",
            "Epoch 3/100\n",
            "313/313 [==============================] - 170s 544ms/step - loss: 4.6652 - accuracy: 0.0354 - val_loss: 4.7080 - val_accuracy: 0.0469\n",
            "Epoch 4/100\n",
            "313/313 [==============================] - 170s 544ms/step - loss: 4.3607 - accuracy: 0.0647 - val_loss: 4.7380 - val_accuracy: 0.0312\n",
            "Epoch 5/100\n",
            "313/313 [==============================] - 170s 544ms/step - loss: 4.1103 - accuracy: 0.0946 - val_loss: 4.4427 - val_accuracy: 0.0781\n",
            "Epoch 6/100\n",
            "313/313 [==============================] - 169s 539ms/step - loss: 3.9163 - accuracy: 0.1183 - val_loss: 5.0575 - val_accuracy: 0.0590\n",
            "Epoch 7/100\n",
            "313/313 [==============================] - 168s 538ms/step - loss: 3.7078 - accuracy: 0.1470 - val_loss: 4.3633 - val_accuracy: 0.1281\n",
            "Epoch 8/100\n",
            "313/313 [==============================] - 168s 536ms/step - loss: 3.5089 - accuracy: 0.1720 - val_loss: 5.3648 - val_accuracy: 0.0719\n",
            "Epoch 9/100\n",
            "313/313 [==============================] - 169s 539ms/step - loss: 3.3351 - accuracy: 0.2039 - val_loss: 4.0850 - val_accuracy: 0.1031\n",
            "\n",
            "Epoch 00009: ReduceLROnPlateau reducing learning rate to 0.0005000000237487257.\n",
            "Epoch 10/100\n",
            "313/313 [==============================] - 168s 538ms/step - loss: 3.0061 - accuracy: 0.2617 - val_loss: 3.1922 - val_accuracy: 0.1750\n",
            "Epoch 11/100\n",
            "313/313 [==============================] - 167s 533ms/step - loss: 2.8737 - accuracy: 0.2925 - val_loss: 2.8594 - val_accuracy: 0.2062\n",
            "Epoch 12/100\n",
            "313/313 [==============================] - 167s 534ms/step - loss: 2.7717 - accuracy: 0.3096 - val_loss: 3.4979 - val_accuracy: 0.1705\n",
            "Epoch 13/100\n",
            "313/313 [==============================] - 166s 531ms/step - loss: 2.6499 - accuracy: 0.3330 - val_loss: 3.4248 - val_accuracy: 0.2344\n",
            "Epoch 14/100\n",
            "313/313 [==============================] - 168s 538ms/step - loss: 2.5556 - accuracy: 0.3478 - val_loss: 3.3102 - val_accuracy: 0.2094\n",
            "Epoch 15/100\n",
            "313/313 [==============================] - 168s 536ms/step - loss: 2.4402 - accuracy: 0.3700 - val_loss: 3.2221 - val_accuracy: 0.2375\n",
            "Epoch 16/100\n",
            "313/313 [==============================] - 168s 537ms/step - loss: 2.3311 - accuracy: 0.3968 - val_loss: 2.8953 - val_accuracy: 0.2469\n",
            "Epoch 17/100\n",
            "313/313 [==============================] - 168s 537ms/step - loss: 2.2115 - accuracy: 0.4274 - val_loss: 2.7283 - val_accuracy: 0.3443\n",
            "Epoch 18/100\n",
            "313/313 [==============================] - 168s 538ms/step - loss: 2.0836 - accuracy: 0.4491 - val_loss: 3.3163 - val_accuracy: 0.3406\n",
            "Epoch 19/100\n",
            "313/313 [==============================] - 167s 535ms/step - loss: 1.9798 - accuracy: 0.4770 - val_loss: 3.4118 - val_accuracy: 0.3156\n",
            "\n",
            "Epoch 00019: ReduceLROnPlateau reducing learning rate to 0.0002500000118743628.\n",
            "Epoch 20/100\n",
            "313/313 [==============================] - 168s 537ms/step - loss: 1.6402 - accuracy: 0.5550 - val_loss: 2.5520 - val_accuracy: 0.3625\n",
            "Epoch 21/100\n",
            "313/313 [==============================] - 168s 536ms/step - loss: 1.4845 - accuracy: 0.5919 - val_loss: 3.6491 - val_accuracy: 0.3719\n",
            "Epoch 22/100\n",
            "313/313 [==============================] - 168s 537ms/step - loss: 1.4233 - accuracy: 0.6025 - val_loss: 3.7367 - val_accuracy: 0.3344\n",
            "Epoch 23/100\n",
            "313/313 [==============================] - 169s 539ms/step - loss: 1.2981 - accuracy: 0.6383 - val_loss: 2.5890 - val_accuracy: 0.3705\n",
            "\n",
            "Epoch 00023: ReduceLROnPlateau reducing learning rate to 0.0001250000059371814.\n",
            "Epoch 24/100\n",
            "313/313 [==============================] - 168s 537ms/step - loss: 1.0985 - accuracy: 0.6968 - val_loss: 2.3331 - val_accuracy: 0.4563\n",
            "Epoch 25/100\n",
            "313/313 [==============================] - 168s 538ms/step - loss: 1.0197 - accuracy: 0.7190 - val_loss: 2.7182 - val_accuracy: 0.4344\n",
            "Epoch 26/100\n",
            "313/313 [==============================] - 168s 537ms/step - loss: 0.9539 - accuracy: 0.7242 - val_loss: 3.0702 - val_accuracy: 0.4531\n",
            "\n",
            "Epoch 00026: ReduceLROnPlateau reducing learning rate to 6.25000029685907e-05.\n",
            "Epoch 27/100\n",
            "313/313 [==============================] - 169s 541ms/step - loss: 0.8078 - accuracy: 0.7714 - val_loss: 3.2976 - val_accuracy: 0.4031\n",
            "Epoch 28/100\n",
            "313/313 [==============================] - 172s 549ms/step - loss: 0.7603 - accuracy: 0.7781 - val_loss: 1.2040 - val_accuracy: 0.4459\n",
            "\n",
            "Epoch 00028: ReduceLROnPlateau reducing learning rate to 3.125000148429535e-05.\n",
            "Epoch 29/100\n",
            "313/313 [==============================] - 175s 560ms/step - loss: 0.7045 - accuracy: 0.7985 - val_loss: 2.9299 - val_accuracy: 0.4563\n",
            "Epoch 30/100\n",
            "313/313 [==============================] - 177s 564ms/step - loss: 0.6690 - accuracy: 0.8089 - val_loss: 2.9296 - val_accuracy: 0.4437\n",
            "\n",
            "Epoch 00030: ReduceLROnPlateau reducing learning rate to 1.5625000742147677e-05.\n",
            "Epoch 31/100\n",
            "313/313 [==============================] - 175s 561ms/step - loss: 0.6413 - accuracy: 0.8186 - val_loss: 1.4723 - val_accuracy: 0.4313\n",
            "Epoch 32/100\n",
            "313/313 [==============================] - 173s 552ms/step - loss: 0.6254 - accuracy: 0.8239 - val_loss: 3.5703 - val_accuracy: 0.5219\n",
            "Epoch 33/100\n",
            "313/313 [==============================] - 172s 549ms/step - loss: 0.6004 - accuracy: 0.8321 - val_loss: 1.9806 - val_accuracy: 0.3906\n",
            "Epoch 34/100\n",
            "313/313 [==============================] - 170s 544ms/step - loss: 0.5925 - accuracy: 0.8299 - val_loss: 2.6014 - val_accuracy: 0.4885\n",
            "\n",
            "Epoch 00034: ReduceLROnPlateau reducing learning rate to 1e-05.\n",
            "Epoch 35/100\n",
            "313/313 [==============================] - 170s 544ms/step - loss: 0.5841 - accuracy: 0.8390 - val_loss: 2.2011 - val_accuracy: 0.4625\n",
            "Epoch 36/100\n",
            "313/313 [==============================] - 171s 545ms/step - loss: 0.5743 - accuracy: 0.8381 - val_loss: 2.9541 - val_accuracy: 0.4563\n",
            "Epoch 37/100\n",
            "313/313 [==============================] - 170s 543ms/step - loss: 0.5797 - accuracy: 0.8361 - val_loss: 2.4397 - val_accuracy: 0.4437\n",
            "Epoch 38/100\n",
            "313/313 [==============================] - 170s 542ms/step - loss: 0.5609 - accuracy: 0.8374 - val_loss: 2.4502 - val_accuracy: 0.4344\n"
          ],
          "name": "stdout"
        }
      ]
    },
    {
      "cell_type": "markdown",
      "metadata": {
        "id": "8MqyNuQHl0mE",
        "colab_type": "text"
      },
      "source": [
        "# Plot The model\n",
        "The model that I create is overfitting may be is because of the architecture of the neural nets, and need more data for better classification"
      ]
    },
    {
      "cell_type": "code",
      "metadata": {
        "id": "-lB0SrvJ5ZA3",
        "colab_type": "code",
        "colab": {
          "base_uri": "https://localhost:8080/",
          "height": 573
        },
        "outputId": "be5d0063-9bc2-4f6b-b6a0-e88d5d936ac0"
      },
      "source": [
        "plt.plot(history.history['accuracy'])\n",
        "plt.plot(history.history['val_accuracy'])\n",
        "plt.title('Model Accuracy')\n",
        "plt.ylabel('Accuracy')\n",
        "plt.xlabel('Epoch')\n",
        "plt.legend(['Train','Validation'], loc='upper left')\n",
        "plt.show()\n",
        "\n",
        "plt.plot(history.history['loss'])\n",
        "plt.plot(history.history['val_loss'])\n",
        "plt.title('Model Loss')\n",
        "plt.ylabel('Loss')\n",
        "plt.xlabel('Epoch')\n",
        "plt.legend(['Train','Validation'], loc='upper left')\n",
        "plt.show()"
      ],
      "execution_count": 24,
      "outputs": [
        {
          "output_type": "display_data",
          "data": {
            "image/png": "[encoded data removed]",
            "text/plain": [
              "<Figure size 432x288 with 1 Axes>"
            ]
          },
          "metadata": {
            "tags": [],
            "needs_background": "light"
          }
        },
        {
          "output_type": "display_data",
          "data": {
            "image/png": "[encoded data removed]",
            "text/plain": [
              "<Figure size 432x288 with 1 Axes>"
            ]
          },
          "metadata": {
            "tags": [],
            "needs_background": "light"
          }
        }
      ]
    },
    {
      "cell_type": "code",
      "metadata": {
        "id": "jhMlEqB8ly13",
        "colab_type": "code",
        "colab": {}
      },
      "source": [
        "model.save('Caltech.h5')"
      ],
      "execution_count": 0,
      "outputs": []
    },
    {
      "cell_type": "code",
      "metadata": {
        "id": "RhnoHFUPxoY6",
        "colab_type": "code",
        "colab": {}
      },
      "source": [
        ""
      ],
      "execution_count": 0,
      "outputs": []
    }
  ]
}